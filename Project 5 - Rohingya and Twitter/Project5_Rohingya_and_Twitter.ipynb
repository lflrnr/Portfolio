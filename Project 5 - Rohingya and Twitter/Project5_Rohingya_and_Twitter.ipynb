{
 "cells": [
  {
   "cell_type": "markdown",
   "id": "fd6d9b5e",
   "metadata": {},
   "source": [
    "## Portfolio Project # 5\n",
    "### Rohingya Refugees in Cox's Bazar, Bangladesh\n",
    "### Exploring Rohingya Sentiments and Trending Topics with Twitter's API\n",
    "##### https://developer.twitter.com/en/docs/twitter-api/tutorials\n",
    "\n",
    "May 5, 2022\n",
    "\n",
    "The initial goal for this project is to conduct analyses of sentiments and trending topics of Rohingya refugees in Bangladesh. Twitter granted my developer account elevated access to the Twitter API on 2021-12-20. If elevated access allows for filtering Tweets by geolocation, I will attempt to bound my analyses to the refugee camps and potentially to surrounding areas. Alternatively, I may use key hashtag terms: #Rohingya, #Rohingyas, Rohingya, Rohingyas. Scraped Tweets will be fed into Sentiment Analysis libraries (e.g. TextBlob or Vader Sentiment: https://github.com/cjhutto/vaderSentiment), Natural Language Processing libraries (e.g. NLTK: https://www.nltk.org/) or possibly TensorFlow. Currently, elevated access only allows searching for the past 7 days of Tweets.\n",
    "\n",
    "Initial questions to explore: What are the current overall sentiments in the Rohingya refugee camps in Bangladesh? Are they positive or negative or neutral? What are currently the most frequently mentioned keywords or hashtags? Potential future questions to explore: What are the overall sentiments regarding biometric technologies (e.g. fingerprinting, iris scanning, ID cards etc)? How have they varied over time?\n",
    "\n",
    "Skills: Python; MySQL; Twitter API; Tweepy; Pandas; Vader; NLTK; Matplotlib; Seaborn; Data Munging; Feature Engineering.\n",
    "\n",
    "References for documentation and starter code:\n",
    "<br>1. Getting started with the Twitter API v2 for academic research\n",
    "<br>&emsp;&emsp; https://github.com/twitterdev/getting-started-with-the-twitter-api-v2-for-academic-research\n",
    "<br>2. A comprehensive guide for using the Twitter API v2 with Tweepy in Python\n",
    "<br>&emsp;&emsp; https://dev.to/twitterdev/a-comprehensive-guide-for-using-the-twitter-api-v2-using-tweepy-in-python-15d9\n",
    "<br>3. How to use the Twitter API v2 in Python using Tweepy\n",
    "<br>&emsp;&emsp; https://www.youtube.com/watch?v=0EekpQBEP_8&t=758s\n",
    "<br>4. Building queries for Search Tweets\n",
    "<br>&emsp;&emsp; https://developer.twitter.com/en/docs/twitter-api/tweets/search/integrate/build-a-query\n",
    "<br>5. Twitter API v2 data dictionary\n",
    "<br>&emsp;&emsp; https://developer.twitter.com/en/docs/twitter-api/data-dictionary/object-model/tweet\n",
    "<br>6. Introduction to Twitter data processing and storage on AWS\n",
    "<br>&emsp;&emsp; https://dev.to/twitterdev/introduction-to-twitter-data-processing-and-storage-on-aws-1og\n",
    "<br>7. A Complete Step by Step Tutorial on Sentiment Analysis in Keras and Tensorflow\n",
    "<br>&emsp;&emsp; https://towardsdatascience.com/a-complete-step-by-step-tutorial-on-sentiment-analysis-in-keras-and-tensorflow-ea420cc8913f"
   ]
  },
  {
   "cell_type": "markdown",
   "id": "0d4aef8f",
   "metadata": {},
   "source": [
    "Notes:\n",
    "1. Searching for Tweets from the last 7 days\n",
    "13. Keeping your dataset compliant\n",
    "<br>https://github.com/twitterdev/getting-started-with-the-twitter-api-v2-for-academic-research/blob/main/modules/6b-labs-code-standard-python.md\n",
    "\n"
   ]
  },
  {
   "cell_type": "code",
   "execution_count": 1,
   "id": "3b52675b",
   "metadata": {},
   "outputs": [],
   "source": [
    "# # Use datatable to speed up the process of loading data?\n",
    "# import datatable as dt  # pip install datatable\n",
    "# %%time\n",
    "# tps_dt_october = dt.fread(\"data/train.csv\").to_pandas()"
   ]
  },
  {
   "cell_type": "markdown",
   "id": "ffacc731",
   "metadata": {},
   "source": [
    "### Script below to be run once on AWS to instantiate a MySQL database."
   ]
  },
  {
   "cell_type": "code",
   "execution_count": 2,
   "id": "a058b460",
   "metadata": {},
   "outputs": [],
   "source": [
    "\"\"\"Using MySQL to practice deploying to the cloud with the idea that the database \n",
    "will grow every day and feed a website showing Rohingya Twitter metrics.\n",
    "MySQL was chosen due to ease and widespread use. It is more efficient than pandas \n",
    "which is more computationally intensive to add rows to daily.\"\"\"\n",
    "\n",
    "import mysql.connector"
   ]
  },
  {
   "cell_type": "code",
   "execution_count": 3,
   "id": "af78f19a",
   "metadata": {},
   "outputs": [
    {
     "name": "stdout",
     "output_type": "stream",
     "text": [
      "<mysql.connector.connection.MySQLConnection object at 0x7fda22b6ee50>\n"
     ]
    }
   ],
   "source": [
    "import config    # Config file is used to keep passwords & keys for MySQL & Twitter.\n",
    "\n",
    "mydb = mysql.connector.connect(\n",
    "    host = config.HOST,\n",
    "    user = config.USER,\n",
    "    passwd = config.PASSWD,\n",
    "    use_pure = True)\n",
    "\n",
    "print(mydb)\n",
    "db_cursor = mydb.cursor(buffered=True)\n",
    "# Create database\n",
    "db_cursor.execute(\"CREATE DATABASE Rohingya_tweets\")"
   ]
  },
  {
   "cell_type": "code",
   "execution_count": 4,
   "id": "e9f1a0da",
   "metadata": {},
   "outputs": [
    {
     "name": "stdout",
     "output_type": "stream",
     "text": [
      "None\n"
     ]
    }
   ],
   "source": [
    "import os\n",
    "\n",
    "host = os.getenv('MYSQL_HOST')\n",
    "port = os.getenv('MYSQL_PORT')\n",
    "user = os.getenv('MYSQL_USER')\n",
    "password = os.getenv('MYSQL_PASSWORD')\n",
    "database = os.getenv('MYSQL_DATABASE')\n",
    "\n",
    "print(password)"
   ]
  },
  {
   "cell_type": "code",
   "execution_count": 5,
   "id": "39825777",
   "metadata": {},
   "outputs": [
    {
     "name": "stdout",
     "output_type": "stream",
     "text": [
      "<mysql.connector.connection.MySQLConnection object at 0x7fda22d543a0>\n",
      "('tweets',)\n"
     ]
    },
    {
     "data": {
      "text/plain": [
       "True"
      ]
     },
     "execution_count": 5,
     "metadata": {},
     "output_type": "execute_result"
    }
   ],
   "source": [
    "mydb = mysql.connector.connect(\n",
    "    host = config.HOST,\n",
    "    user = config.USER,\n",
    "    passwd = config.PASSWD,\n",
    "    db = 'Rohingya_tweets',\n",
    "    use_pure = True\n",
    ")\n",
    "print(mydb)\n",
    "db_cursor = mydb.cursor(buffered=True)\n",
    "#Create database table with date as primary key\n",
    "db_cursor.execute(\"CREATE TABLE tweets(date DATE PRIMARY KEY, mentions INT(255))\")\n",
    "#Get database table\n",
    "db_cursor.execute(\"SHOW TABLES\")\n",
    "for table in db_cursor:\n",
    "    print(table)\n",
    "db_cursor.close()"
   ]
  },
  {
   "cell_type": "markdown",
   "id": "56563669",
   "metadata": {},
   "source": [
    "### Script below to be run daily on AWS."
   ]
  },
  {
   "cell_type": "code",
   "execution_count": 6,
   "id": "b7df36fe",
   "metadata": {},
   "outputs": [],
   "source": [
    "import tweepy\n",
    "import config    # Config file is used to keep passwords & keys for MySQL & Twitter.\n",
    "import pandas as pd\n",
    "import numpy as np\n",
    "import matplotlib.pyplot as plt\n",
    "import seaborn as sns"
   ]
  },
  {
   "cell_type": "code",
   "execution_count": 7,
   "id": "f03b7af6",
   "metadata": {},
   "outputs": [],
   "source": [
    "client = tweepy.Client(bearer_token=config.BEARER_TOKEN)"
   ]
  },
  {
   "cell_type": "code",
   "execution_count": 8,
   "id": "6620e312",
   "metadata": {},
   "outputs": [],
   "source": [
    "query = '#Rohingya OR #Rohingyas OR Rohingya OR Rohingyas -is:retweet lang:en'"
   ]
  },
  {
   "cell_type": "code",
   "execution_count": 9,
   "id": "7972be94",
   "metadata": {},
   "outputs": [],
   "source": [
    "# This does not subtract from monthly tweet limit.\n",
    "counts = client.get_recent_tweets_count(query=query, granularity='day')"
   ]
  },
  {
   "cell_type": "code",
   "execution_count": 10,
   "id": "244ca0cf",
   "metadata": {},
   "outputs": [],
   "source": [
    "# To check API payload:\n",
    "\n",
    "# for count in counts.data:\n",
    "#     print(count)"
   ]
  },
  {
   "cell_type": "code",
   "execution_count": 11,
   "id": "95ea64f2",
   "metadata": {},
   "outputs": [
    {
     "data": {
      "text/plain": [
       "((datetime.datetime(2022, 4, 30, 0, 0), 1928),\n",
       " (datetime.datetime(2022, 5, 1, 0, 0), 2803),\n",
       " (datetime.datetime(2022, 5, 2, 0, 0), 3121),\n",
       " (datetime.datetime(2022, 5, 3, 0, 0), 2538),\n",
       " (datetime.datetime(2022, 5, 4, 0, 0), 2236),\n",
       " (datetime.datetime(2022, 5, 5, 0, 0), 2159),\n",
       " (datetime.datetime(2022, 5, 6, 0, 0), 1711))"
      ]
     },
     "execution_count": 11,
     "metadata": {},
     "output_type": "execute_result"
    }
   ],
   "source": [
    "from datetime import datetime\n",
    "\n",
    "dates = []\n",
    "tweets = []\n",
    "for count in counts.data:\n",
    "    date = datetime.strptime(count['end'][:10], '%Y-%m-%d')\n",
    "    # API payload includes 2 end dates for the current date with the 1st being the full day so the last date needs to be ignored.\n",
    "    if date in dates:\n",
    "        break\n",
    "    else:\n",
    "        dates.append(date)\n",
    "        tweets.append(count['tweet_count'])\n",
    "tups = tuple(zip(dates, tweets))\n",
    "tups"
   ]
  },
  {
   "cell_type": "code",
   "execution_count": 12,
   "id": "b876edb8",
   "metadata": {},
   "outputs": [
    {
     "name": "stdout",
     "output_type": "stream",
     "text": [
      "<mysql.connector.connection.MySQLConnection object at 0x7fda26d10d00>\n",
      "1 Record Inserted\n"
     ]
    }
   ],
   "source": [
    "mydb = mysql.connector.connect(\n",
    "    host = config.HOST,\n",
    "    user = config.USER,\n",
    "    passwd = config.PASSWD,\n",
    "    db = 'Rohingya_tweets',\n",
    "    use_pure = True\n",
    ")\n",
    "print(mydb)\n",
    "db_cursor = mydb.cursor(buffered=True)\n",
    "\n",
    "# Ignore adding dates that are already in the table:\n",
    "for item in tups:\n",
    "    tweets_sql_query = \"INSERT IGNORE INTO tweets(date, mentions) VALUES('%s', %i)\" %item\n",
    "    db_cursor.execute(tweets_sql_query)\n",
    "    mydb.commit()\n",
    "print(db_cursor.rowcount, \"Record Inserted\")"
   ]
  },
  {
   "cell_type": "code",
   "execution_count": 13,
   "id": "a013f006",
   "metadata": {},
   "outputs": [],
   "source": [
    "# Checking to see if insertions worked:\n",
    "\n",
    "# db_cursor.execute(\"SELECT * FROM tweets\")\n",
    "# result = db_cursor.fetchall()\n",
    "# for row in result:\n",
    "#     print(row)"
   ]
  },
  {
   "cell_type": "code",
   "execution_count": 14,
   "id": "722d0ef9",
   "metadata": {},
   "outputs": [
    {
     "name": "stdout",
     "output_type": "stream",
     "text": [
      "         date  mentions\n",
      "0  2022-04-30      1928\n",
      "1  2022-05-01      2803\n",
      "2  2022-05-02      3121\n",
      "3  2022-05-03      2538\n",
      "4  2022-05-04      2236\n",
      "5  2022-05-05      2159\n",
      "6  2022-05-06      1711\n"
     ]
    }
   ],
   "source": [
    "# Extracting the data from MySQL using pandas for visualizing:\n",
    "\n",
    "df = pd.read_sql(\"SELECT * from tweets\", mydb)\n",
    "pd.set_option('display.expand_frame_repr', False)\n",
    "db_cursor.close()\n",
    "print(df)"
   ]
  },
  {
   "cell_type": "code",
   "execution_count": 15,
   "id": "5aee3c3e",
   "metadata": {},
   "outputs": [
    {
     "data": {
      "image/png": "[encoded data removed]",
      "text/plain": [
       "<Figure size 2000x800 with 1 Axes>"
      ]
     },
     "metadata": {
      "needs_background": "light"
     },
     "output_type": "display_data"
    }
   ],
   "source": [
    "plt.figure(figsize=(10,4), dpi=200)\n",
    "\n",
    "#  https://stackoverflow.com/questions/36271302/changing-color-scale-in-seaborn-bar-plot\n",
    "sns.set(style=\"whitegrid\", color_codes=True)\n",
    "data = df['mentions']\n",
    "pal = sns.color_palette(\"Greens_d\", len(data))\n",
    "rank = data.argsort().argsort()   # http://stackoverflow.com/a/6266510/1628638\n",
    "sns.barplot(x=df['date'], y=df['mentions'], palette=np.array(pal)[rank])\n",
    "\n",
    "plt.title('# of tweets mentioning Rohingya by date')\n",
    "plt.xlabel('Date')\n",
    "plt.ylabel('# of tweets')\n",
    "plt.xticks(rotation=45)\n",
    "plt.savefig('tweets_count.png', bbox_inches='tight');"
   ]
  },
  {
   "cell_type": "markdown",
   "id": "70a8bfc5",
   "metadata": {},
   "source": [
    "### Below cells are for querying and analyzing a tweets payload (in progress)"
   ]
  },
  {
   "cell_type": "markdown",
   "id": "44fbd213",
   "metadata": {},
   "source": [
    "response = client.search_recent_tweets(query=query, max_results=10,\n",
    "                                      tweet_fields=['author_id', 'id', 'text', \n",
    "                                                    'created_at', 'lang',\n",
    "                                                    'geo', 'possibly_sensitive'])\n",
    "# counts = client.get_recent_tweets_count(query=query, granularity='day')"
   ]
  },
  {
   "cell_type": "markdown",
   "id": "47546825",
   "metadata": {},
   "source": [
    "df.loc[len(df)] = ['name5', 9, 0]"
   ]
  },
  {
   "cell_type": "markdown",
   "id": "fa52027c",
   "metadata": {},
   "source": [
    "print(response)"
   ]
  },
  {
   "cell_type": "markdown",
   "id": "ee05883e",
   "metadata": {},
   "source": [
    "for tweet in response.data:\n",
    "    print(tweet.author_id)\n",
    "    print(tweet.lang)\n",
    "    print(tweet.created_at)"
   ]
  },
  {
   "cell_type": "markdown",
   "id": "e1fa79cc",
   "metadata": {},
   "source": [
    "import pandas as pd\n",
    "import numpy as np\n",
    "import matplotlib.pyplot as plt\n",
    "import seaborn as sns"
   ]
  },
  {
   "cell_type": "markdown",
   "id": "0f7fdf72",
   "metadata": {
    "scrolled": true
   },
   "source": [
    "df = pd.DataFrame(data=response.data, columns=['author_id', 'id', 'text', 'created_at', 'lang',\n",
    "                                               'geo', 'possibly_sensitive'])\n",
    "df"
   ]
  },
  {
   "cell_type": "markdown",
   "id": "1680f0e4",
   "metadata": {
    "scrolled": true
   },
   "source": []
  }
 ],
 "metadata": {
  "kernelspec": {
   "display_name": "Python 3 (ipykernel)",
   "language": "python",
   "name": "python3"
  },
  "language_info": {
   "codemirror_mode": {
    "name": "ipython",
    "version": 3
   },
   "file_extension": ".py",
   "mimetype": "text/x-python",
   "name": "python",
   "nbconvert_exporter": "python",
   "pygments_lexer": "ipython3",
   "version": "3.8.11"
  }
 },
 "nbformat": 4,
 "nbformat_minor": 5
}
